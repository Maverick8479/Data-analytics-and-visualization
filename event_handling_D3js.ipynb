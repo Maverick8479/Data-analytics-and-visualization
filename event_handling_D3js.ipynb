{
  "nbformat": 4,
  "nbformat_minor": 0,
  "metadata": {
    "colab": {
      "provenance": [],
      "include_colab_link": true
    },
    "kernelspec": {
      "name": "python3",
      "display_name": "Python 3"
    },
    "language_info": {
      "name": "python"
    }
  },
  "cells": [
    {
      "cell_type": "markdown",
      "metadata": {
        "id": "view-in-github",
        "colab_type": "text"
      },
      "source": [
        "<a href=\"https://colab.research.google.com/github/Maverick8479/Data-analytics-and-visualization/blob/main/38_DAV_10.ipynb\" target=\"_parent\"><img src=\"https://colab.research.google.com/assets/colab-badge.svg\" alt=\"Open In Colab\"/></a>"
      ]
    },
    {
      "cell_type": "markdown",
      "source": [
        "\n",
        "**Title of Experiment**:\n",
        "Event Handling with D3.js\n",
        "\n",
        "\n",
        "\n"
      ],
      "metadata": {
        "id": "diexZnY4XASM"
      }
    },
    {
      "cell_type": "code",
      "execution_count": 2,
      "metadata": {
        "colab": {
          "base_uri": "https://localhost:8080/",
          "height": 221
        },
        "id": "ZJF-or7fiFLS",
        "outputId": "daa30c88-7ed7-4b81-a3e5-976434a7abe2"
      },
      "outputs": [
        {
          "output_type": "display_data",
          "data": {
            "text/plain": [
              "<IPython.core.display.HTML object>"
            ],
            "text/html": [
              "<!DOCTYPE html>\n",
              "<html lang=\"en\">\n",
              "<head>\n",
              "  <meta charset=\"UTF-8\">\n",
              "  <title>D3.js Drag and Drop</title>\n",
              "  <script src=\"https://d3js.org/d3.v7.min.js\"></script>\n",
              "  <style>\n",
              "    .circle {\n",
              "      fill: steelblue;\n",
              "      cursor: pointer;\n",
              "    }\n",
              "  </style>\n",
              "</head>\n",
              "<body>\n",
              "  <svg width=\"200\" height=\"200\">\n",
              "    <circle class=\"circle\" cx=\"50\" cy=\"50\" r=\"20\"></circle>\n",
              "    <circle class=\"circle\" cx=\"100\" cy=\"100\" r=\"20\"></circle>\n",
              "    <circle class=\"circle\" cx=\"150\" cy=\"150\" r=\"20\"></circle>\n",
              "  </svg>\n",
              "\n",
              "  <script>\n",
              "    d3.selectAll(\".circle\")\n",
              "      .call(d3.drag()\n",
              "        .on(\"start\", function() {\n",
              "          d3.select(this).raise().classed(\"active\", true);\n",
              "        })\n",
              "        .on(\"drag\", function(event) {\n",
              "          d3.select(this)\n",
              "            .attr(\"cx\", event.x)\n",
              "            .attr(\"cy\", event.y);\n",
              "        })\n",
              "        .on(\"end\", function() {\n",
              "          d3.select(this).classed(\"active\", false);\n",
              "        })\n",
              "      );\n",
              "  </script>\n",
              "</body>\n",
              "</html>\n",
              "\n"
            ]
          },
          "metadata": {}
        }
      ],
      "source": [
        "%%html\n",
        "<!DOCTYPE html>\n",
        "<html lang=\"en\">\n",
        "<head>\n",
        "  <meta charset=\"UTF-8\">\n",
        "  <title>D3.js Drag and Drop</title>\n",
        "  <script src=\"https://d3js.org/d3.v7.min.js\"></script>\n",
        "  <style>\n",
        "    .circle {\n",
        "      fill: steelblue;\n",
        "      cursor: pointer;\n",
        "    }\n",
        "  </style>\n",
        "</head>\n",
        "<body>\n",
        "  <svg width=\"200\" height=\"200\">\n",
        "    <circle class=\"circle\" cx=\"50\" cy=\"50\" r=\"20\"></circle>\n",
        "    <circle class=\"circle\" cx=\"100\" cy=\"100\" r=\"20\"></circle>\n",
        "    <circle class=\"circle\" cx=\"150\" cy=\"150\" r=\"20\"></circle>\n",
        "  </svg>\n",
        "\n",
        "  <script>\n",
        "    d3.selectAll(\".circle\")\n",
        "      .call(d3.drag()\n",
        "        .on(\"start\", function() {\n",
        "          d3.select(this).raise().classed(\"active\", true);\n",
        "        })\n",
        "        .on(\"drag\", function(event) {\n",
        "          d3.select(this)\n",
        "            .attr(\"cx\", event.x)\n",
        "            .attr(\"cy\", event.y);\n",
        "        })\n",
        "        .on(\"end\", function() {\n",
        "          d3.select(this).classed(\"active\", false);\n",
        "        })\n",
        "      );\n",
        "  </script>\n",
        "</body>\n",
        "</html>\n",
        "\n"
      ]
    },
    {
      "cell_type": "code",
      "source": [
        "%%html\n",
        "<!DOCTYPE html>\n",
        "<html lang=\"en\">\n",
        "<head>\n",
        "  <meta charset=\"UTF-8\">\n",
        "  <meta name=\"viewport\" content=\"width=device-width, initial-scale=1.0\">\n",
        "  <title>D3.js Event Handling</title>\n",
        "  <script src=\"https://d3js.org/d3.v5.min.js\"></script>\n",
        "</head>\n",
        "<body>\n",
        "  <h2>Hover over the rectangle</h2>\n",
        "  <svg width=\"200\" height=\"200\">\n",
        "    <!-- Rectangle -->\n",
        "    <rect x=\"50\" y=\"50\" width=\"100\" height=\"100\" fill=\"lightblue\"></rect>\n",
        "  </svg>\n",
        "\n",
        "  <script>\n",
        "    const rectangle = d3.select(\"rect\");\n",
        "\n",
        "    // Add event listener for mouseover event\n",
        "    rectangle.on(\"mouseover\", function() {\n",
        "      // Change the rectangle's fill color to yellow on mouseover\n",
        "      d3.select(this)\n",
        "        .transition()\n",
        "        .duration(500)\n",
        "        .attr(\"fill\", \"yellow\");\n",
        "    });\n",
        "\n",
        "    // Add event listener for mouseout event\n",
        "    rectangle.on(\"mouseout\", function() {\n",
        "      // Change the rectangle's fill color back to lightblue on mouseout\n",
        "      d3.select(this)\n",
        "        .transition()\n",
        "        .duration(500)\n",
        "        .attr(\"fill\", \"lightblue\");\n",
        "    });\n",
        "  </script>\n",
        "</body>\n",
        "</html>"
      ],
      "metadata": {
        "colab": {
          "base_uri": "https://localhost:8080/",
          "height": 268
        },
        "id": "4rxa1eWzFWFA",
        "outputId": "83e4aa14-7561-4992-d044-eb15f4a058e4"
      },
      "execution_count": 1,
      "outputs": [
        {
          "output_type": "display_data",
          "data": {
            "text/plain": [
              "<IPython.core.display.HTML object>"
            ],
            "text/html": [
              "<!DOCTYPE html>\n",
              "<html lang=\"en\">\n",
              "<head>\n",
              "  <meta charset=\"UTF-8\">\n",
              "  <meta name=\"viewport\" content=\"width=device-width, initial-scale=1.0\">\n",
              "  <title>D3.js Event Handling</title>\n",
              "  <script src=\"https://d3js.org/d3.v5.min.js\"></script>\n",
              "</head>\n",
              "<body>\n",
              "  <h2>Hover over the rectangle</h2>\n",
              "  <svg width=\"200\" height=\"200\">\n",
              "    <!-- Rectangle -->\n",
              "    <rect x=\"50\" y=\"50\" width=\"100\" height=\"100\" fill=\"lightblue\"></rect>\n",
              "  </svg>\n",
              "\n",
              "  <script>\n",
              "    const rectangle = d3.select(\"rect\");\n",
              "\n",
              "    // Add event listener for mouseover event\n",
              "    rectangle.on(\"mouseover\", function() {\n",
              "      // Change the rectangle's fill color to yellow on mouseover\n",
              "      d3.select(this)\n",
              "        .transition()\n",
              "        .duration(500)\n",
              "        .attr(\"fill\", \"yellow\");\n",
              "    });\n",
              "\n",
              "    // Add event listener for mouseout event\n",
              "    rectangle.on(\"mouseout\", function() {\n",
              "      // Change the rectangle's fill color back to lightblue on mouseout\n",
              "      d3.select(this)\n",
              "        .transition()\n",
              "        .duration(500)\n",
              "        .attr(\"fill\", \"lightblue\");\n",
              "    });\n",
              "  </script>\n",
              "</body>\n",
              "</html>\n"
            ]
          },
          "metadata": {}
        }
      ]
    }
  ]
}
